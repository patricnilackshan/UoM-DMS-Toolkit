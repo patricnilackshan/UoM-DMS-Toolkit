{
  "nbformat": 4,
  "nbformat_minor": 0,
  "metadata": {
    "colab": {
      "provenance": [],
      "include_colab_link": true
    },
    "kernelspec": {
      "name": "python3",
      "display_name": "Python 3"
    },
    "language_info": {
      "name": "python"
    }
  },
  "cells": [
    {
      "cell_type": "markdown",
      "metadata": {
        "id": "view-in-github",
        "colab_type": "text"
      },
      "source": [
        "<a href=\"https://colab.research.google.com/github/patricnilackshan/UoM_DMS_Toolkit/blob/main/UoM_DMS_Toolkit_by_Patric.ipynb\" target=\"_parent\"><img src=\"https://colab.research.google.com/assets/colab-badge.svg\" alt=\"Open In Colab\"/></a>"
      ]
    },
    {
      "cell_type": "markdown",
      "source": [
        "# __UoM DMS Toolkit__ 💻"
      ],
      "metadata": {
        "id": "o1YHqqgw86wu"
      }
    },
    {
      "cell_type": "markdown",
      "source": [
        "## Introduction 📋\n",
        "UoM_DMS_Toolkit streamlines file tasks for students at UoM. Enjoy data-free downloads/uploads and multimedia processing, including Torrents, Youtube, M3U8 links. Say goodbye to bandwidth worries and focus on your education! 😁\n",
        "\n",
        "<br>\n",
        "\n",
        "### AN IDEA OF PATRIC NILACKSHAN 🧑‍💻 (pnilackshan@gmail.com)\n"
      ],
      "metadata": {
        "id": "LT6Wij9ilI_P"
      }
    },
    {
      "cell_type": "markdown",
      "source": [
        "## Prerequisites 🎯"
      ],
      "metadata": {
        "id": "b3_kEdQB9o5I"
      }
    },
    {
      "cell_type": "code",
      "source": [
        "!pip install requests pytube ffmpeg-python libtorrent"
      ],
      "metadata": {
        "id": "cNU9Os7P93Ss"
      },
      "execution_count": null,
      "outputs": []
    },
    {
      "cell_type": "markdown",
      "source": [
        "## Login to DMS 🏫"
      ],
      "metadata": {
        "id": "c4JaK_m69jze"
      }
    },
    {
      "cell_type": "code",
      "execution_count": null,
      "metadata": {
        "id": "TfWtGXmqbggL",
        "cellView": "form"
      },
      "outputs": [],
      "source": [
        "#@markdown <br><center><img src='https://dms.uom.lk/apps/theming/image/logo' height=\"200\" alt=\"UoM-logo\"/></center>\n",
        "#@markdown <center><h3>University of Moratuwa DMS Credentials</h3></center><br>\n",
        "\n",
        "\n",
        "UserName = \"Enter your UoM UserName\" # @param {type:\"string\"}\n",
        "Password = \"Enter your UoM Password\" # @param {type:\"string\"}\n",
        "LoginDetail = f'\"{UserName}:{Password}\"'\n",
        "\n",
        "\n",
        "# APIs\n",
        "Header = '\"OCS-APIRequest: true\"'\n",
        "UploadPoint = '\"https://dms.uom.lk/remote.php/webdav/\"'\n",
        "SharePoint = '\"https://dms.uom.lk/ocs/v2.php/apps/files_sharing/api/v1/shares?format=json\"'"
      ]
    },
    {
      "cell_type": "markdown",
      "source": [
        "## Input the Download Link of File 🔗"
      ],
      "metadata": {
        "id": "izV5KWqa-gxk"
      }
    },
    {
      "cell_type": "code",
      "execution_count": null,
      "metadata": {
        "id": "mCES0DpI7JZ3",
        "cellView": "form"
      },
      "outputs": [],
      "source": [
        "#@markdown <br><center><img src='https://dms.uom.lk/svg/core/actions/public?color=000' height=\"140\" alt=\"Link-logo\"/></center>\n",
        "#@markdown <br><center><h3>Enter Download Link here...</h3></center><br>\n",
        "\n",
        "Download_Link = \"https://youtu.be/dQw4w9WgXcQ?feature=shared\" # @param {type:\"string\"}\n",
        "FileName = \"YoutubeDownload.mp4\" # @param {type:\"string\"}"
      ]
    },
    {
      "cell_type": "markdown",
      "source": [
        "## Download File from URL 📥"
      ],
      "metadata": {
        "id": "bS0ECfUb-W6J"
      }
    },
    {
      "cell_type": "code",
      "source": [
        "import os\n",
        "import sys\n",
        "import time\n",
        "import warnings\n",
        "import requests\n",
        "import subprocess\n",
        "import libtorrent as lt\n",
        "from pytube import YouTube\n",
        "\n",
        "\n",
        "TorrentName = \"\"\n",
        "downloaded_Torrent_Files = []\n",
        "\n",
        "\n",
        "def download_torrent(Download_Link):\n",
        "    global FileName, TorrentName, downloaded_Torrent_Files\n",
        "    with warnings.catch_warnings():\n",
        "        warnings.simplefilter(\"ignore\", category=DeprecationWarning)\n",
        "        ses = lt.session()\n",
        "        params = {\n",
        "            'save_path': './',\n",
        "            'storage_mode': lt.storage_mode_t(2),\n",
        "        }\n",
        "        handle = lt.add_magnet_uri(ses, Download_Link, params)\n",
        "        sys.stdout.write('Downloading metadata...\\n')\n",
        "        sys.stdout.flush()\n",
        "        while not handle.has_metadata():\n",
        "            time.sleep(1)\n",
        "        TorrentName = handle.get_torrent_info().name()\n",
        "        sys.stdout.write('Metadata downloaded, starting torrent download...\\n')\n",
        "        sys.stdout.write('Press Ctrl+C to stop\\n')\n",
        "        sys.stdout.flush()\n",
        "        while handle.status().state != lt.torrent_status.seeding:\n",
        "            s = handle.status()\n",
        "            state_str = ['queued', 'checking', 'downloading metadata', 'downloading', 'finished', 'seeding', 'allocating', 'checking fastresume']\n",
        "            progress = '%.2f%% complete (down: %.1f kB/s up: %.1f kB/s peers: %d) %s' % (\n",
        "                s.progress * 100, s.download_rate / 1000, s.upload_rate / 1000, s.num_peers, state_str[s.state])\n",
        "            sys.stdout.write('\\r' + progress)\n",
        "            sys.stdout.flush()\n",
        "            time.sleep(1)\n",
        "        downloaded_Torrent_Files = [file.path for file in handle.get_torrent_info().files()]\n",
        "        sys.stdout.write('\\nDownload complete!\\n')\n",
        "        sys.stdout.flush()\n",
        "        print(\"\\nDownloaded files:\")\n",
        "        for i, name in enumerate(downloaded_Torrent_Files):\n",
        "          print(f\"{i+1}: {name}\")\n",
        "        while True:\n",
        "          try:\n",
        "              file_selected = int(input(\"\\n\\nEnter 𝟎 to add all the downloaded files to a ZIP & Upload\\n\\n𝐎𝐑\\n\\nEnter the number corresponding to the file you want to upload to DMS: \"))\n",
        "              # ZIP all files\n",
        "              if (file_selected == 0):\n",
        "                print(\"\\nZipping... Please wait...\")\n",
        "                command = ['zip','-r',f'{FileName}.zip',TorrentName]\n",
        "                subprocess.run(command, check=True)\n",
        "                FileName = f'{FileName}.zip'\n",
        "                print(f'\\n{FileName} selected for Upload')\n",
        "                break\n",
        "              # Select an individual file\n",
        "              elif ((file_selected>0) and (file_selected<=len(downloaded_Torrent_Files))):\n",
        "                file_selected = str(downloaded_Torrent_Files[file_selected-1])\n",
        "                FileName = file_selected\n",
        "                print(f'\\n{FileName} selected for Upload')\n",
        "                break\n",
        "              else:\n",
        "                  print(\"Please enter a valid number corresponding to the file you want to upload\")\n",
        "          except ValueError:\n",
        "              print(\"Please enter a valid number corresponding to the file you want to upload\")\n",
        "\n",
        "\n",
        "def download_regular_file(Download_Link):\n",
        "    cwd = os.getcwd()\n",
        "    full_output_path = os.path.join(cwd, FileName)\n",
        "    response = requests.get(Download_Link, stream=True)\n",
        "    if response.status_code == 200:\n",
        "        with open(full_output_path, 'wb') as f:\n",
        "            for chunk in response.iter_content(chunk_size=51200):\n",
        "                if chunk:\n",
        "                    f.write(chunk)\n",
        "        print(f\"File downloaded successfully and saved as {full_output_path}\")\n",
        "    else:\n",
        "        print(f\"Failed to download file from {Download_Link}. HTTP Status code: {response.status_code}\")\n",
        "\n",
        "\n",
        "def download_youtube_video(Download_Link):\n",
        "    yt = YouTube(Download_Link)\n",
        "    available_streams = yt.streams.filter(progressive=True, file_extension='mp4').order_by('resolution').desc()\n",
        "    print(\"Available formats:\")\n",
        "    for i, stream in enumerate(available_streams):\n",
        "        print(f\"{i+1}: {stream.resolution} - {stream.fps}fps - {stream.mime_type}\")\n",
        "    selection = int(input(\"Enter the number corresponding to the desired format: \"))\n",
        "    selected_stream = available_streams[selection-1]\n",
        "    print(f\"Downloading {selected_stream.resolution} video...\")\n",
        "    selected_stream.download(filename=FileName)\n",
        "    print(\"Download completed.\")\n",
        "\n",
        "\n",
        "def download_m3u8(Download_Link):\n",
        "    command = [\n",
        "        'ffmpeg',\n",
        "        '-threads', '8',  # Use 8 threads\n",
        "        '-i', Download_Link,   # Input file (m3u8 URL)\n",
        "        '-c', 'copy',     # Copy the codec (fastest method)\n",
        "        FileName          # Output file path\n",
        "    ]\n",
        "    subprocess.run(command, check=True)\n",
        "\n",
        "\n",
        "def main():\n",
        "    if Download_Link.startswith('magnet:?xt=urn:btih:'):\n",
        "        download_torrent(Download_Link)\n",
        "    elif Download_Link.endswith('.m3u8'):\n",
        "        download_m3u8(Download_Link)\n",
        "    elif (('youtube.com' in Download_Link) or ('youtu.be' in Download_Link)):\n",
        "        download_youtube_video(Download_Link)\n",
        "    else:\n",
        "        download_regular_file(Download_Link)\n",
        "\n",
        "\n",
        "if __name__ == \"__main__\":\n",
        "    main()"
      ],
      "metadata": {
        "id": "LD_OSIg6JyBF"
      },
      "execution_count": null,
      "outputs": []
    },
    {
      "cell_type": "markdown",
      "source": [
        "## Upload File to DMS 📤"
      ],
      "metadata": {
        "id": "wCIySO4nCMPU"
      }
    },
    {
      "cell_type": "code",
      "source": [
        "import re\n",
        "import sys\n",
        "import subprocess\n",
        "\n",
        "def execute_curl_with_progress(curl_command):\n",
        "    # Start the curl command in a subprocess with stdout redirected\n",
        "    process = subprocess.Popen(curl_command, shell=True, stdout=subprocess.PIPE, stderr=subprocess.PIPE, universal_newlines=True)\n",
        "    try:\n",
        "        # Initialize variables to store the previous progress\n",
        "        prev_progress = 0\n",
        "        # Loop through the output of the command\n",
        "        for line in process.stderr:\n",
        "            # Extract progress information using regex\n",
        "            match = re.search(r'(\\d+(\\.\\d+)?)%', line)\n",
        "            if match:\n",
        "                progress = float(match.group(1))\n",
        "                # Calculate the number of characters to represent the progress bar\n",
        "                bar_length = 50\n",
        "                filled_length = int(bar_length * progress / 100)\n",
        "                filled_bar = '█' * filled_length  # Use '█' for the filled part\n",
        "                empty_bar = '░' * (bar_length - filled_length)  # Use '░' for the empty part\n",
        "                # Display progress information\n",
        "                sys.stdout.write(f\"\\rUpload Progress: [{filled_bar}{empty_bar}] {progress:.1f}%\")\n",
        "                sys.stdout.flush()\n",
        "                # Update previous progress\n",
        "                prev_progress = progress\n",
        "            else:\n",
        "                # Skip lines that don't contain progress updates\n",
        "                continue\n",
        "        # Wait for the process to finish and get the return code\n",
        "        return_code = process.wait()\n",
        "        # Check if the command was successful\n",
        "        if return_code == 0:\n",
        "            print(\"\\nFile uploaded to DMS successfully.\")\n",
        "        else:\n",
        "            print(\"\\nError occurred during file upload.\")\n",
        "    except Exception as e:\n",
        "        print(\"\\nAn error occurred:\", e)\n",
        "\n",
        "\n",
        "# Construct the curl command with --progress-bar option\n",
        "curl_command = f'curl -u {LoginDetail} --progress-bar -T \"{FileName}\" \"{UploadPoint}\"'\n",
        "\n",
        "\n",
        "# Execute the curl command and show progress\n",
        "execute_curl_with_progress(curl_command)"
      ],
      "metadata": {
        "id": "9DGExC3E8kPf"
      },
      "execution_count": null,
      "outputs": []
    },
    {
      "cell_type": "markdown",
      "source": [
        "## Share File from the DMS 🔁"
      ],
      "metadata": {
        "id": "Ew2ZwamSOfQr"
      }
    },
    {
      "cell_type": "code",
      "source": [
        "import json\n",
        "permissionBody = str('\"'+'path='+FileName+'&shareType=3&permissions=1'+'\"')\n",
        "json_response = !curl -u {LoginDetail} -X POST -d {permissionBody} {SharePoint} -H {Header}\n",
        "json_string = ''.join(json_response)\n",
        "share = json.loads(json_string)['ocs']['data']\n",
        "try:\n",
        "  print(f\"Share ID : {share['id']}\\nFile Path : {share['path']}\\nDMS Link : {share['url']}\\n\")\n",
        "except:\n",
        "  print(\"Error during Sharing\")"
      ],
      "metadata": {
        "id": "0N78Hk9rVYqU"
      },
      "execution_count": null,
      "outputs": []
    },
    {
      "cell_type": "markdown",
      "source": [
        "## Get details of all shares in DMS Account 📢"
      ],
      "metadata": {
        "id": "Jv3aPgm_isgw"
      }
    },
    {
      "cell_type": "code",
      "source": [
        "import json\n",
        "json_response = !curl -u {LoginDetail} -X GET {SharePoint} -H {Header}\n",
        "\n",
        "# Convert the SList to a string and then parse it as JSON\n",
        "json_string = ''.join(json_response)\n",
        "json_data = json.loads(json_string)[\"ocs\"][\"data\"]\n",
        "\n",
        "# Print details of shares\n",
        "if (len(json_data) > 0):\n",
        "  for share in json_data:\n",
        "    print(f\"Share ID : {share['id']}\\nFile Path : {share['path']}\\nDMS Link : {share['url']}\\n\")\n",
        "else:\n",
        "  print(\"No shares found for this DMS Account.\")"
      ],
      "metadata": {
        "id": "j7IZXH78503t"
      },
      "execution_count": null,
      "outputs": []
    },
    {
      "cell_type": "markdown",
      "source": [
        "## Delete a share with its Share_ID 🗑️"
      ],
      "metadata": {
        "id": "tyIVWa-lj2Rk"
      }
    },
    {
      "cell_type": "code",
      "source": [
        "Share_ID = 263498 # @param {type:\"integer\"}\n",
        "deletePoint = str(f'{SharePoint[:-13]}/{Share_ID}?format=json\"')\n",
        "json_response = !curl -u {LoginDetail} -X DELETE {deletePoint} -H {Header}\n",
        "json_string = ''.join(json_response)\n",
        "try:\n",
        "  statuscode = json.loads(json_string)[\"ocs\"][\"meta\"][\"statuscode\"]\n",
        "  if (statuscode == 200):\n",
        "    print(f\"Share with Share ID: {Share_ID} deleted successfully.\")\n",
        "  else:\n",
        "    print(\"Error during deletion\")\n",
        "except:\n",
        "  print(\"Error during deletion\")"
      ],
      "metadata": {
        "id": "wJS2vOcCivAv"
      },
      "execution_count": null,
      "outputs": []
    },
    {
      "cell_type": "markdown",
      "source": [
        "## Mapping DMS WebDAV Share (For Windows OS) 🪟"
      ],
      "metadata": {
        "id": "JKwy6pe-NvpP"
      }
    },
    {
      "cell_type": "markdown",
      "source": [
        "### Run this command in a new Command Prompt in Windows to see DMS as a Local Disk in My Computer\n",
        "#### Replace 'userName' and 'userPassword' with actual values\n",
        "`\n",
        "net use Z: https://dms.uom.lk/remote.php/webdav/ /user:<userName> <userPassword>\n",
        "`\n",
        "\n",
        "<br>"
      ],
      "metadata": {
        "id": "PUA_4BgBkzGh"
      }
    },
    {
      "cell_type": "markdown",
      "source": [
        "## Conclusion 😎"
      ],
      "metadata": {
        "id": "78JZFetNmIRL"
      }
    },
    {
      "cell_type": "markdown",
      "source": [
        "### These CLI codes provide a convenient way to interact with the DMS for educational purposes, enabling data-free downloads, uploads, and sharing of files and folders. 🧑‍💻\n",
        "\n",
        "<br>\n",
        "\n",
        "### © PATRIC NILACKSHAN (pnilackshan@gmail.com)"
      ],
      "metadata": {
        "id": "76RewtXxmeHx"
      }
    }
  ]
}