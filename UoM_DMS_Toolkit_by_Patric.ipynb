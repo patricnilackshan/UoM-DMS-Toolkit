{
  "cells": [
    {
      "cell_type": "markdown",
      "metadata": {
        "id": "view-in-github",
        "colab_type": "text"
      },
      "source": [
        "<a href=\"https://colab.research.google.com/github/patricnilackshan/UoM_DMS_Toolkit/blob/main/UoM_DMS_Toolkit_by_Patric.ipynb\" target=\"_parent\"><img src=\"https://colab.research.google.com/assets/colab-badge.svg\" alt=\"Open In Colab\"/></a>"
      ]
    },
    {
      "cell_type": "markdown",
      "metadata": {
        "id": "o1YHqqgw86wu"
      },
      "source": [
        "# __UoM DMS Toolkit__ 💻"
      ]
    },
    {
      "cell_type": "markdown",
      "metadata": {
        "id": "LT6Wij9ilI_P"
      },
      "source": [
        "## **Introduction** 📋\n",
        "UoM_DMS_Toolkit streamlines file tasks for students at UoM. Enjoy data-free downloads/uploads and multimedia processing, including Torrents, Youtube, M3U8 links. Say goodbye to bandwidth worries and focus on your education! 😁\n",
        "\n",
        "<br>\n",
        "\n",
        "### AN IDEA OF PATRIC NILACKSHAN 🧑‍💻 (pnilackshan@gmail.com)\n"
      ]
    },
    {
      "cell_type": "markdown",
      "metadata": {
        "id": "c4JaK_m69jze"
      },
      "source": [
        "<br>\n",
        "\n",
        "<br>\n",
        "\n",
        "## **Sign in to DMS** 🏫"
      ]
    },
    {
      "cell_type": "code",
      "execution_count": null,
      "metadata": {
        "cellView": "form",
        "id": "TfWtGXmqbggL"
      },
      "outputs": [],
      "source": [
        "%%capture\n",
        "!pip install requests yt-dlp ffmpeg-python libtorrent;\n",
        "!python -m pip install --upgrade pip setuptools wheel\n",
        "!python -m pip install lbry-libtorrent\n",
        "!apt install python3-libtorrent\n",
        "\n",
        "\n",
        "#@markdown <br><center><img src='https://dms.uom.lk/apps/theming/image/logo' height=\"200\" alt=\"UoM-logo\"/></center>\n",
        "#@markdown <center><h3>Sign in</h3></center><br>\n",
        "\n",
        "\n",
        "UserName = \"UserName\" # @param {type:\"string\"}\n",
        "Password = \"Password\" # @param {type:\"string\"}\n",
        "LoginDetail = f'\"{UserName}:{Password}\"'\n",
        "\n",
        "\n",
        "# APIs\n",
        "Header = '\"OCS-APIRequest: true\"'\n",
        "UploadPoint = '\"https://dms.uom.lk/remote.php/webdav/\"'\n",
        "SharePoint = '\"https://dms.uom.lk/ocs/v2.php/apps/files_sharing/api/v1/shares?format=json\"'"
      ]
    },
    {
      "cell_type": "markdown",
      "metadata": {
        "id": "bS0ECfUb-W6J"
      },
      "source": [
        "<br>\n",
        "\n",
        "<br>\n",
        "\n",
        "## **Download File from URL** 📥"
      ]
    },
    {
      "cell_type": "code",
      "execution_count": null,
      "metadata": {
        "id": "mCES0DpI7JZ3",
        "cellView": "form"
      },
      "outputs": [],
      "source": [
        "#@markdown <br><center><img src='https://dms.uom.lk/svg/core/actions/public?color=000' height=\"140\" alt=\"Link-logo\"/></center>\n",
        "#@markdown <br><center><h3>Enter Download Link here...</h3></center><br>\n",
        "\n",
        "\n",
        "Download_Link = \"https://www.youtube.com/watch?v=AiD6SOOBKZI\" # @param {type:\"string\"}\n",
        "# @markdown <br>\n",
        "\n",
        "\n",
        "# @markdown ### `FileName is required only for Torrents and Direct Download Links`\n",
        "FileName = \"Manasilayo\" # @param {type:\"string\"}\n",
        "\n",
        "\n",
        "import os\n",
        "import sys\n",
        "import time\n",
        "import warnings\n",
        "import subprocess\n",
        "\n",
        "TorrentName = \"\"\n",
        "downloaded_Torrent_Files = []\n",
        "\n",
        "\n",
        "def download_torrent(Download_Link):\n",
        "    import libtorrent as lt\n",
        "    global FileName, TorrentName, downloaded_Torrent_Files\n",
        "    with warnings.catch_warnings():\n",
        "        warnings.simplefilter(\"ignore\", category=DeprecationWarning)\n",
        "        ses = lt.session()\n",
        "        params = {\n",
        "            'save_path': './',\n",
        "            'storage_mode': lt.storage_mode_t(2),\n",
        "        }\n",
        "        handle = lt.add_magnet_uri(ses, Download_Link, params)\n",
        "        sys.stdout.write('Downloading metadata...\\n')\n",
        "        sys.stdout.flush()\n",
        "        while not handle.has_metadata():\n",
        "            time.sleep(1)\n",
        "        TorrentName = handle.get_torrent_info().name()\n",
        "        sys.stdout.write('Metadata downloaded, starting torrent download...\\n')\n",
        "        sys.stdout.write('Press Ctrl+C to stop\\n')\n",
        "        sys.stdout.flush()\n",
        "        while handle.status().state != lt.torrent_status.seeding:\n",
        "            s = handle.status()\n",
        "            state_str = ['queued', 'checking', 'downloading metadata', 'downloading', 'finished', 'seeding', 'allocating', 'checking fastresume']\n",
        "            progress = '%.2f%% complete (down: %.1f kB/s up: %.1f kB/s peers: %d) %s' % (\n",
        "                s.progress * 100, s.download_rate / 1000, s.upload_rate / 1000, s.num_peers, state_str[s.state])\n",
        "            sys.stdout.write('\\r' + progress)\n",
        "            sys.stdout.flush()\n",
        "            time.sleep(1)\n",
        "        downloaded_Torrent_Files = [file.path for file in handle.get_torrent_info().files()]\n",
        "        sys.stdout.write('\\nDownload complete!\\n')\n",
        "        sys.stdout.flush()\n",
        "        print(\"\\nDownloaded files:\")\n",
        "        for i, name in enumerate(downloaded_Torrent_Files):\n",
        "          print(f\"{i+1}: {name}\")\n",
        "        while True:\n",
        "          try:\n",
        "              file_selected = int(input(\"\\n\\nEnter 𝟎 to add all the downloaded files to a ZIP & Upload\\n\\n𝐎𝐑\\n\\nEnter the number corresponding to the file you want to upload to DMS: \\n\"))\n",
        "              # ZIP all files\n",
        "              if (file_selected == 0):\n",
        "                print(\"\\nZipping... Please wait...\")\n",
        "                command = ['zip','-r',f'{FileName}.zip',TorrentName]\n",
        "                subprocess.run(command, check=True)\n",
        "                FileName = f'{FileName}.zip'\n",
        "                print(f'\\n{FileName} selected for Upload')\n",
        "                break\n",
        "              # Select an individual file\n",
        "              elif ((file_selected>0) and (file_selected<=len(downloaded_Torrent_Files))):\n",
        "                file_selected = str(downloaded_Torrent_Files[file_selected-1])\n",
        "                FileName = file_selected\n",
        "                print(f'\\n{FileName} selected for Upload')\n",
        "                break\n",
        "              else:\n",
        "                  print(\"Please enter a valid number corresponding to the file you want to upload\")\n",
        "          except ValueError:\n",
        "              print(\"Please enter a valid number corresponding to the file you want to upload\")\n",
        "\n",
        "\n",
        "def download_regular_file(Download_Link):\n",
        "    import requests\n",
        "    cwd = os.getcwd()\n",
        "    full_output_path = os.path.join(cwd, FileName)\n",
        "    response = requests.get(Download_Link, stream=True)\n",
        "    if response.status_code == 200:\n",
        "        with open(full_output_path, 'wb') as f:\n",
        "            for chunk in response.iter_content(chunk_size=51200):\n",
        "                if chunk:\n",
        "                    f.write(chunk)\n",
        "        print(f\"File downloaded successfully and saved as {full_output_path}\")\n",
        "    else:\n",
        "        print(f\"Failed to download file from {Download_Link}. HTTP Status code: {response.status_code}\")\n",
        "\n",
        "\n",
        "def download_youtube_video(Download_Link):\n",
        "    global FileName\n",
        "    import yt_dlp\n",
        "    # Set download options to merge the best video and audio streams\n",
        "    ydl_opts = {\n",
        "        'quiet': True,\n",
        "        'outtmpl': f'%(title)s.%(ext)s',  # Output template for file name\n",
        "        'merge_output_format': 'mp4',  # Merge into an mp4 file\n",
        "        'postprocessors': [{\n",
        "            'key': 'FFmpegVideoConvertor',\n",
        "            'preferedformat': 'mp4',  # Convert to mp4 if necessary\n",
        "        }]\n",
        "    }\n",
        "    # Extract video info without downloading\n",
        "    with yt_dlp.YoutubeDL(ydl_opts) as ydl:\n",
        "        info = ydl.extract_info(Download_Link, download=False)\n",
        "    # List available formats\n",
        "    formats = [f for f in info['formats'] if f.get('format_note') and f.get('ext')]\n",
        "    for i, format in enumerate(formats):\n",
        "        print(f\"{i+1}. {format.get('format_note')} - {format.get('ext')}\")\n",
        "    # User prompt to select the format\n",
        "    while True:\n",
        "        try:\n",
        "            choice = int(input(\"\\nPlease enter a valid number corresponding to the file you want to upload: \\n\")) - 1\n",
        "            print()\n",
        "            if 0 <= choice < len(formats):\n",
        "                ydl_opts['format'] = formats[choice]['format_id'] + '+bestaudio'\n",
        "                with yt_dlp.YoutubeDL(ydl_opts) as ydl:\n",
        "                    info_dict = ydl.extract_info(Download_Link, download=True)\n",
        "                    FileName = ydl.prepare_filename(info_dict)\n",
        "                    print('\\nVideo downloaded successfully!')\n",
        "                break\n",
        "            else:\n",
        "                print(\"Please enter a valid number corresponding to the format you want to download\")\n",
        "        except ValueError:\n",
        "            print(\"Please enter a valid number corresponding to the format you want to download\")\n",
        "\n",
        "\n",
        "def download_m3u8(Download_Link):\n",
        "    command = [\n",
        "        'ffmpeg',\n",
        "        '-threads', '8',  # Use 8 threads\n",
        "        '-i', Download_Link,   # Input file (m3u8 URL)\n",
        "        '-c', 'copy',     # Copy the codec (fastest method)\n",
        "        FileName          # Output file path\n",
        "    ]\n",
        "    subprocess.run(command, check=True)\n",
        "\n",
        "\n",
        "def main():\n",
        "    if Download_Link.startswith('magnet:?xt=urn:btih:'):\n",
        "        download_torrent(Download_Link)\n",
        "    elif Download_Link.endswith('.m3u8'):\n",
        "        download_m3u8(Download_Link)\n",
        "    elif (('youtube.com' in Download_Link) or ('youtu.be' in Download_Link)):\n",
        "        download_youtube_video(Download_Link)\n",
        "    else:\n",
        "        download_regular_file(Download_Link)\n",
        "\n",
        "\n",
        "main()"
      ]
    },
    {
      "cell_type": "markdown",
      "metadata": {
        "id": "wCIySO4nCMPU"
      },
      "source": [
        "<br>\n",
        "\n",
        "<br>\n",
        "\n",
        "## **Upload File to DMS** 📤"
      ]
    },
    {
      "cell_type": "code",
      "execution_count": null,
      "metadata": {
        "id": "9DGExC3E8kPf",
        "cellView": "form"
      },
      "outputs": [],
      "source": [
        "#@markdown <br><center><img src='https://dms.uom.lk/apps/circles/img/black_circle.svg' height=\"140\" alt=\"Upload-logo\"/></center>\n",
        "#@markdown <br><center><h3>Upload to DMS</h3></center><br>\n",
        "\n",
        "\n",
        "import re\n",
        "import sys\n",
        "import subprocess\n",
        "\n",
        "def execute_curl_with_progress(curl_command):\n",
        "    # Start the curl command in a subprocess with stdout redirected\n",
        "    process = subprocess.Popen(curl_command, shell=True, stdout=subprocess.PIPE, stderr=subprocess.PIPE, universal_newlines=True)\n",
        "    try:\n",
        "        # Initialize variables to store the previous progress\n",
        "        prev_progress = 0\n",
        "        # Loop through the output of the command\n",
        "        for line in process.stderr:\n",
        "            # Extract progress information using regex\n",
        "            match = re.search(r'(\\d+(\\.\\d+)?)%', line)\n",
        "            if match:\n",
        "                progress = float(match.group(1))\n",
        "                # Calculate the number of characters to represent the progress bar\n",
        "                bar_length = 50\n",
        "                filled_length = int(bar_length * progress / 100)\n",
        "                filled_bar = '█' * filled_length  # Use '█' for the filled part\n",
        "                empty_bar = '░' * (bar_length - filled_length)  # Use '░' for the empty part\n",
        "                # Display progress information\n",
        "                sys.stdout.write(f\"\\rUpload Progress: [{filled_bar}{empty_bar}] {progress:.1f}%\")\n",
        "                sys.stdout.flush()\n",
        "                # Update previous progress\n",
        "                prev_progress = progress\n",
        "            else:\n",
        "                # Skip lines that don't contain progress updates\n",
        "                continue\n",
        "        # Wait for the process to finish and get the return code\n",
        "        return_code = process.wait()\n",
        "        # Check if the command was successful\n",
        "        if return_code == 0:\n",
        "            print(\"\\nFile uploaded to DMS successfully.\")\n",
        "        else:\n",
        "            print(\"\\nError occurred during file upload.\")\n",
        "    except Exception as e:\n",
        "        print(\"\\nAn error occurred:\", e)\n",
        "\n",
        "\n",
        "# Construct the curl command with --progress-bar option\n",
        "curl_command = f'curl -u {LoginDetail} --progress-bar -T \"{FileName}\" \"{UploadPoint}\"'\n",
        "\n",
        "\n",
        "# Execute the curl command and show progress\n",
        "execute_curl_with_progress(curl_command)"
      ]
    },
    {
      "cell_type": "markdown",
      "metadata": {
        "id": "Ew2ZwamSOfQr"
      },
      "source": [
        "<br>\n",
        "\n",
        "<br>\n",
        "\n",
        "## **Share File from the DMS** 🔁"
      ]
    },
    {
      "cell_type": "code",
      "execution_count": null,
      "metadata": {
        "id": "0N78Hk9rVYqU",
        "cellView": "form"
      },
      "outputs": [],
      "source": [
        "#@markdown <br><center><img src='https://dms.uom.lk/svg/core/actions/share?color=000' height=\"140\" alt=\"Share-logo\"/></center>\n",
        "#@markdown <br><center><h3>Share File</h3></center><br>\n",
        "\n",
        "\n",
        "import json\n",
        "permissionBody = str('\"'+'path='+FileName+'&shareType=3&permissions=1'+'\"')\n",
        "json_response = !curl -u {LoginDetail} -X POST -d {permissionBody} {SharePoint} -H {Header}\n",
        "json_string = ''.join(json_response)\n",
        "share = json.loads(json_string)['ocs']['data']\n",
        "try:\n",
        "  print(f\"Share ID : {share['id']}\\nFile Path : {share['path']}\\nDMS Link : {share['url']}\\n\")\n",
        "except:\n",
        "  print(\"Error during Sharing\")"
      ]
    },
    {
      "cell_type": "markdown",
      "metadata": {
        "id": "Jv3aPgm_isgw"
      },
      "source": [
        "<br>\n",
        "\n",
        "<br>\n",
        "\n",
        "## **Get details of all shares in DMS Account** 📢"
      ]
    },
    {
      "cell_type": "code",
      "execution_count": null,
      "metadata": {
        "id": "j7IZXH78503t",
        "cellView": "form"
      },
      "outputs": [],
      "source": [
        "#@markdown <br><center><img src='https://dms.uom.lk/svg/core/actions/tag?color=000' height=\"140\" alt=\"Info-logo\"/></center>\n",
        "#@markdown <br><center><h3>Get Share Details</h3></center><br>\n",
        "\n",
        "\n",
        "import json\n",
        "json_response = !curl -u {LoginDetail} -X GET {SharePoint} -H {Header}\n",
        "\n",
        "# Convert the SList to a string and then parse it as JSON\n",
        "json_string = ''.join(json_response)\n",
        "json_data = json.loads(json_string)[\"ocs\"][\"data\"]\n",
        "\n",
        "# Print details of shares\n",
        "if (len(json_data) > 0):\n",
        "  for share in json_data:\n",
        "    print(f\"Share ID : {share['id']}\\nFile Path : {share['path']}\\nDMS Link : {share['url']}\\n\")\n",
        "else:\n",
        "  print(\"No shares found for this DMS Account.\")"
      ]
    },
    {
      "cell_type": "markdown",
      "metadata": {
        "id": "tyIVWa-lj2Rk"
      },
      "source": [
        "<br>\n",
        "\n",
        "<br>\n",
        "\n",
        "## **Delete a share with its Share_ID** 🗑️"
      ]
    },
    {
      "cell_type": "code",
      "execution_count": null,
      "metadata": {
        "cellView": "form",
        "id": "wJS2vOcCivAv"
      },
      "outputs": [],
      "source": [
        "#@markdown <br><center><img src='https://dms.uom.lk/core/img/actions/delete.svg' height=\"140\" alt=\"Delete-logo\"/></center>\n",
        "#@markdown <br><center><h3>Delete a share</h3></center><br>\n",
        "\n",
        "\n",
        "Share_ID = 289018 # @param {type:\"integer\"}\n",
        "deletePoint = str(f'{SharePoint[:-13]}/{Share_ID}?format=json\"')\n",
        "json_response = !curl -u {LoginDetail} -X DELETE {deletePoint} -H {Header}\n",
        "json_string = ''.join(json_response)\n",
        "try:\n",
        "  statuscode = json.loads(json_string)[\"ocs\"][\"meta\"][\"statuscode\"]\n",
        "  if (statuscode == 200):\n",
        "    print(f\"Share with Share ID: {Share_ID} deleted successfully.\")\n",
        "  else:\n",
        "    print(\"Error during deletion\")\n",
        "except:\n",
        "  print(\"Error during deletion\")"
      ]
    },
    {
      "cell_type": "markdown",
      "metadata": {
        "id": "JKwy6pe-NvpP"
      },
      "source": [
        "<br>\n",
        "\n",
        "<br>\n",
        "\n",
        "## **Mount DMS WebDAV in My Computer** 🖴"
      ]
    },
    {
      "cell_type": "markdown",
      "metadata": {
        "id": "PUA_4BgBkzGh"
      },
      "source": [
        "### To map DMS as a local disk in Windows 🪟, run this command in Command Prompt\n",
        "`\n",
        "net use Z: https://dms.uom.lk/remote.php/webdav/ /user:<userName> <userPassword>\n",
        "`\n",
        "\n",
        "Replace 'userName' and 'userPassword' with actual values\n",
        "\n",
        "<br>\n",
        "\n",
        "### To access DMS in Linux 🐧, enter this address in the `Enter server address` field in your File Manager\n",
        "`\n",
        "davs://dms.uom.lk/remote.php/webdav/\n",
        "`\n",
        "<br>"
      ]
    },
    {
      "cell_type": "markdown",
      "metadata": {
        "id": "78JZFetNmIRL"
      },
      "source": [
        "<br>\n",
        "\n",
        "<br>\n",
        "\n",
        "## **Conclusion** 😎"
      ]
    },
    {
      "cell_type": "markdown",
      "metadata": {
        "id": "76RewtXxmeHx"
      },
      "source": [
        "### This notebook provides a convenient way to interact with the DMS for educational purposes, enabling data-free downloads, uploads, and sharing of files and folders. 🧑‍💻\n",
        "\n",
        "<br>\n",
        "\n",
        "### © PATRIC NILACKSHAN (pnilackshan@gmail.com)"
      ]
    }
  ],
  "metadata": {
    "colab": {
      "provenance": [],
      "include_colab_link": true
    },
    "kernelspec": {
      "display_name": "Python 3",
      "name": "python3"
    },
    "language_info": {
      "name": "python"
    }
  },
  "nbformat": 4,
  "nbformat_minor": 0
}